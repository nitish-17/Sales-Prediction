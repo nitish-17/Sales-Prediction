{
 "cells": [
  {
   "cell_type": "code",
   "execution_count": 1,
   "metadata": {},
   "outputs": [],
   "source": [
    "import pandas as pd\n",
    "import numpy as np\n",
    "from IPython.display import display, clear_output\n",
    "import seaborn as sns\n",
    "import dtale\n",
    "import matplotlib.pyplot as plt\n",
    "import math\n",
    "import multiprocessing as mp"
   ]
  },
  {
   "cell_type": "code",
   "execution_count": 2,
   "metadata": {},
   "outputs": [],
   "source": [
    "#city_dict = pd.read_json(\"city_dict.json\",typ='series')\n",
    "#city_codes = pd.DataFrame({'code':city_dict.index, 'city':city_dict.values})\n",
    "#discount_features = pd.read_csv(\"discount_features.csv\", sep=',', header=0)\n",
    "#foot_fall = pd.read_csv(\"foot_fall.csv\", sep=',', header=0)\n",
    "#sample_submission = pd.read_csv(\"sample_submission.csv\", sep=',', header=0)\n",
    "test_data = pd.read_csv(\"test_data.csv\", sep=',', header=0)\n",
    "train_data = pd.read_csv(\"train_data.csv\", sep=',', header=0)"
   ]
  },
  {
   "cell_type": "markdown",
   "metadata": {},
   "source": [
    "for col in ['city', 'medicine']:\n",
    "    train_data[col] = train_data[col].astype('category')\n",
    "    test_data[col] = test_data[col].astype('category')\n",
    "\n",
    "for col in ['city', 'medicine']:\n",
    "    discount_features[col] = discount_features[col].astype('category')\n",
    "\n",
    "discount_features['date'] = discount_features['date'].astype('datetime64')\n",
    "\n",
    "for col in ['code', 'city']:\n",
    "    city_codes[col] = city_codes[col].astype('category')\n",
    "\n",
    "foot_fall['city'] = foot_fall['city'].astype('category')"
   ]
  },
  {
   "cell_type": "markdown",
   "metadata": {},
   "source": [
    "train_data[\"date\"] = pd.to_datetime(train_data[[\"year\", \"month\", \"day\"]])\n",
    "test_data[\"date\"] = pd.to_datetime(test_data[[\"year\", \"month\", \"day\"]])\n",
    "test_data.drop([\"year\", \"month\", \"day\"],axis=1,inplace=True)\n",
    "train_data.drop([\"year\", \"month\", \"day\"],axis=1,inplace=True)"
   ]
  },
  {
   "cell_type": "markdown",
   "metadata": {},
   "source": [
    "dfs = {\n",
    "    \"train_data\" : train_data,\n",
    "    \"test_data\" : test_data,\n",
    "    #\"city_codes\" : city_codes,\n",
    "    #\"discount_features\" : discount_features,\n",
    "    #\"foot_fall\" : foot_fall\n",
    "    }\n",
    "\n",
    "line = \"▒\"*20\n",
    "\n",
    "\n",
    "# for name,df in dfs.items():\n",
    "#     print('{0} {1}.max() {2}'.format(line,name,line))\n",
    "#     display(df.max())\n",
    "#     print('{0} {1}.min() {2}'.format(line,name,line))\n",
    "#     display(df.min())\n",
    "    "
   ]
  },
  {
   "cell_type": "code",
   "execution_count": 3,
   "metadata": {},
   "outputs": [],
   "source": [
    "train_jul = train_data[train_data['month'] == 7]"
   ]
  },
  {
   "cell_type": "code",
   "execution_count": 6,
   "metadata": {},
   "outputs": [],
   "source": [
    "def predictor(city,medicine,day):\n",
    "    b = train_jul[(train_jul['city']==city)&(train_jul['medicine']==medicine)&(train_jul['day'] == day)].iloc[:,5].mean()\n",
    "    return (0 if math.isnan(b) else round(b))"
   ]
  },
  {
   "cell_type": "code",
   "execution_count": 12,
   "metadata": {},
   "outputs": [
    {
     "name": "stdout",
     "output_type": "stream",
     "text": [
      "773535\n",
      "Wall time: 4h 34min 24s\n"
     ]
    }
   ],
   "source": [
    "%%time\n",
    "pred_list = []\n",
    "for index, row in test_data.iterrows():\n",
    "    pred_list.append({\"id\":row['id'],\"sales\":predictor(row['city'],row['medicine'],row['day'])})\n",
    "    clear_output(wait=True)\n",
    "    print(row['id'])"
   ]
  },
  {
   "cell_type": "code",
   "execution_count": 13,
   "metadata": {},
   "outputs": [],
   "source": [
    "predictions = pd.DataFrame(pred_list)"
   ]
  },
  {
   "cell_type": "code",
   "execution_count": 14,
   "metadata": {},
   "outputs": [
    {
     "data": {
      "text/plain": [
       "(773535, 6)"
      ]
     },
     "execution_count": 14,
     "metadata": {},
     "output_type": "execute_result"
    }
   ],
   "source": [
    "test_data.shape"
   ]
  },
  {
   "cell_type": "code",
   "execution_count": 15,
   "metadata": {},
   "outputs": [
    {
     "data": {
      "text/plain": [
       "(773535, 2)"
      ]
     },
     "execution_count": 15,
     "metadata": {},
     "output_type": "execute_result"
    }
   ],
   "source": [
    "predictions.shape"
   ]
  },
  {
   "cell_type": "code",
   "execution_count": 16,
   "metadata": {},
   "outputs": [
    {
     "data": {
      "text/html": [
       "<div>\n",
       "<style scoped>\n",
       "    .dataframe tbody tr th:only-of-type {\n",
       "        vertical-align: middle;\n",
       "    }\n",
       "\n",
       "    .dataframe tbody tr th {\n",
       "        vertical-align: top;\n",
       "    }\n",
       "\n",
       "    .dataframe thead th {\n",
       "        text-align: right;\n",
       "    }\n",
       "</style>\n",
       "<table border=\"1\" class=\"dataframe\">\n",
       "  <thead>\n",
       "    <tr style=\"text-align: right;\">\n",
       "      <th></th>\n",
       "      <th>id</th>\n",
       "      <th>sales</th>\n",
       "    </tr>\n",
       "  </thead>\n",
       "  <tbody>\n",
       "    <tr>\n",
       "      <th>0</th>\n",
       "      <td>1</td>\n",
       "      <td>29</td>\n",
       "    </tr>\n",
       "    <tr>\n",
       "      <th>1</th>\n",
       "      <td>2</td>\n",
       "      <td>13</td>\n",
       "    </tr>\n",
       "    <tr>\n",
       "      <th>2</th>\n",
       "      <td>3</td>\n",
       "      <td>117</td>\n",
       "    </tr>\n",
       "    <tr>\n",
       "      <th>3</th>\n",
       "      <td>4</td>\n",
       "      <td>80</td>\n",
       "    </tr>\n",
       "    <tr>\n",
       "      <th>4</th>\n",
       "      <td>5</td>\n",
       "      <td>24</td>\n",
       "    </tr>\n",
       "    <tr>\n",
       "      <th>...</th>\n",
       "      <td>...</td>\n",
       "      <td>...</td>\n",
       "    </tr>\n",
       "    <tr>\n",
       "      <th>995</th>\n",
       "      <td>996</td>\n",
       "      <td>41</td>\n",
       "    </tr>\n",
       "    <tr>\n",
       "      <th>996</th>\n",
       "      <td>997</td>\n",
       "      <td>27</td>\n",
       "    </tr>\n",
       "    <tr>\n",
       "      <th>997</th>\n",
       "      <td>998</td>\n",
       "      <td>15</td>\n",
       "    </tr>\n",
       "    <tr>\n",
       "      <th>998</th>\n",
       "      <td>999</td>\n",
       "      <td>32</td>\n",
       "    </tr>\n",
       "    <tr>\n",
       "      <th>999</th>\n",
       "      <td>1000</td>\n",
       "      <td>12</td>\n",
       "    </tr>\n",
       "  </tbody>\n",
       "</table>\n",
       "<p>1000 rows × 2 columns</p>\n",
       "</div>"
      ],
      "text/plain": [
       "       id  sales\n",
       "0       1     29\n",
       "1       2     13\n",
       "2       3    117\n",
       "3       4     80\n",
       "4       5     24\n",
       "..    ...    ...\n",
       "995   996     41\n",
       "996   997     27\n",
       "997   998     15\n",
       "998   999     32\n",
       "999  1000     12\n",
       "\n",
       "[1000 rows x 2 columns]"
      ]
     },
     "execution_count": 16,
     "metadata": {},
     "output_type": "execute_result"
    }
   ],
   "source": [
    "predictions.head(1000)"
   ]
  },
  {
   "cell_type": "code",
   "execution_count": 17,
   "metadata": {},
   "outputs": [],
   "source": [
    "predictions.to_csv('sales_predictions_a_1.csv', index=False)"
   ]
  }
 ],
 "metadata": {
  "kernelspec": {
   "display_name": "Python 3",
   "language": "python",
   "name": "python3"
  },
  "language_info": {
   "codemirror_mode": {
    "name": "ipython",
    "version": 3
   },
   "file_extension": ".py",
   "mimetype": "text/x-python",
   "name": "python",
   "nbconvert_exporter": "python",
   "pygments_lexer": "ipython3",
   "version": "3.7.6"
  }
 },
 "nbformat": 4,
 "nbformat_minor": 4
}
